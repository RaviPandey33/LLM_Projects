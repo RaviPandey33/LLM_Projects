{
 "cells": [
  {
   "cell_type": "code",
   "execution_count": null,
   "metadata": {},
   "outputs": [],
   "source": [
    "import openai\n",
    "import streamlit as st\n"
   ]
  },
  {
   "cell_type": "code",
   "execution_count": null,
   "metadata": {},
   "outputs": [],
   "source": [
    "st.title(\"MY ChatBot\")\n",
    "\n",
    "openai.api_key = st.secrets[\"OPENAI_API_KEY\"]\n",
    "\n",
    "if \"openai_model\" not in st.session_state:\n",
    "    st.session_state[\"openai_model\"] = \"gpt-3.5-turbo\"\n",
    "    \n",
    "if \"messages\" not in st.session_state:\n",
    "    st.session_state.messages = []\n",
    "    \n",
    "for message in st.session_state.messages:\n",
    "    with st.chat_message(message[\"role\"]):\n",
    "        st.markdown(message[\"content\"])\n",
    "\n",
    "if prompt := st.chat_input(\"What is up ?\"):\n",
    "    st.session_state.messages.append({\"role\": \"user\",\"content\": prompt})\n",
    "    with st.chat_message(\"user\"):\n",
    "        st.markdown(prompt)\n",
    "    \n",
    "    with st.chat_message(\"assistant\"):\n",
    "        message_placeholder = st.empty()\n",
    "        full_response = \"\"\n",
    "        for response in openai.ChatCompletion.create(\n",
    "            model = st.session_state[\"openai_model\"],\n",
    "            messages=[\n",
    "                {\"role\": m[\"role\"], \"content\": m[\"content\"]}\n",
    "                for m in st.session_state.messages\n",
    "            ],\n",
    "            strea = True,\n",
    "        ):\n",
    "            full_response += response.choices[0].delta.get(\"content\", \"\")\n",
    "            message_placeholder.markdown(full_response + \"|\")\n",
    "            message_placeholder.markdown(full_response)\n",
    "            st.session_state.messages.append({\"role\": \"assistant\", \"content\": full_response})\n",
    "        \n",
    "        "
   ]
  }
 ],
 "metadata": {
  "language_info": {
   "name": "python"
  }
 },
 "nbformat": 4,
 "nbformat_minor": 2
}
